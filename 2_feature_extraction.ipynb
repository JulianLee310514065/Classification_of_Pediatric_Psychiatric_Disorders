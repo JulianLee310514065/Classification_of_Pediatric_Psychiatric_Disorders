{
 "cells": [
  {
   "attachments": {},
   "cell_type": "markdown",
   "metadata": {},
   "source": [
    "# Posner analyze"
   ]
  },
  {
   "cell_type": "markdown",
   "metadata": {},
   "source": [
    "## Import module"
   ]
  },
  {
   "cell_type": "code",
   "execution_count": null,
   "metadata": {},
   "outputs": [],
   "source": [
    "import pandas as pd\n",
    "import numpy as np\n",
    "import matplotlib.pyplot as plt\n",
    "import seaborn as sns\n",
    "import os \n",
    "import glob\n",
    "import math\n",
    "import scipy.signal as signal"
   ]
  },
  {
   "cell_type": "markdown",
   "metadata": {},
   "source": [
    "## Get posner stage"
   ]
  },
  {
   "cell_type": "code",
   "execution_count": null,
   "metadata": {},
   "outputs": [],
   "source": [
    "def Stage(df):\n",
    "    '''\n",
    "    return: dataframe denoted with each stage\n",
    "\n",
    "    inputs:\n",
    "        df: dataframe\n",
    "    '''\n",
    "    OwO = pd.read_csv(df, index_col='Time_Host')\n",
    "                \n",
    "    OwO = OwO.drop(columns=['CH1_Oxy', 'CH1_Deoxy', 'CH4_Oxy', 'CH4_Deoxy'])\n",
    "    OwO['CH2_HbT'] = OwO['CH2_Oxy'] + OwO['CH2_Deoxy']\n",
    "    OwO['CH3_HbT'] = OwO['CH3_Oxy'] + OwO['CH3_Deoxy']\n",
    "\n",
    "    # set stage\n",
    "    posner_stage_time = [0, 60, OwO[OwO['posner_trail'] == 0].index.max(), OwO[OwO['posner_trail'] == 0].index.max()+60, OwO[OwO['posner_trail'] == 1].index.max(), OwO[OwO['posner_trail'] == 1].index.max()+60, OwO[OwO['posner_trail'] == 2].index.max(), OwO[OwO['posner_trail'] == 2].index.max()+200]\n",
    "    OwO['posner_stage'] = 0\n",
    "    for i in range(0, 7):\n",
    "        OwO.posner_stage.loc[posner_stage_time[i]:posner_stage_time[i+1]] = i"
   ]
  },
  {
   "attachments": {},
   "cell_type": "markdown",
   "metadata": {},
   "source": [
    "## Get activation"
   ]
  },
  {
   "cell_type": "code",
   "execution_count": null,
   "metadata": {},
   "outputs": [],
   "source": [
    "def Feature(df):\n",
    "    '''\n",
    "    return: the activarion of each stage and difference of peak of between two stages\n",
    "\n",
    "    inputs:\n",
    "        df: dataframe\n",
    "    '''\n",
    "    stage_peak = df.drop(columns=['posner_trail', 'posner_task']).groupby('posner_stage').agg(max).stack()\n",
    "    stage_activation = stage_peak.sub(df.drop(columns=['posner_trail', 'posner_task']).groupby('posner_stage').agg(min).stack())\n",
    "    stage_activation.index = stage_activation.index.map(lambda col: 'stage' + str(col[0]) + '_' + str(col[1]) + '_activation')\n",
    "\n",
    "    features = stage_activation.to_frame().T\n",
    "\n",
    "    return features"
   ]
  },
  {
   "attachments": {},
   "cell_type": "markdown",
   "metadata": {},
   "source": [
    "# Main"
   ]
  },
  {
   "cell_type": "code",
   "execution_count": null,
   "metadata": {},
   "outputs": [],
   "source": [
    "group_dir = []\n",
    "for dirPath, dirNames, fileNames in os.walk(r'path\\2_processed_data'):\n",
    "    group_dir.append(dirPath)\n",
    "all_activation = pd.DataFrame()\n",
    "all_pre_activation = pd.DataFrame()\n",
    "all_post_activation = pd.DataFrame()\n",
    "case_num=0\n",
    "\n",
    "for group in group_dir:\n",
    "    split_list = group.split('\\\\')\n",
    "    data_link = os.path.join('..\\\\', split_list[-4], split_list[-3], split_list[-2], split_list[-1], \"*.csv\")\n",
    "    file_list = glob.glob(data_link)\n",
    "    if len(file_list)>0:\n",
    "        for file in file_list:\n",
    "            if 'post' in file:\n",
    "                OwO = Stage(file)\n",
    "                post_features = Feature(OwO)\n",
    "\n",
    "            elif 'pre' in file:\n",
    "                OwO = Stage(file)\n",
    "                pre_features = Feature(OwO)\n",
    "            \n",
    "        post_features['group'] = split_list[-2]\n",
    "        pre_features['group'] = split_list[-2]\n",
    "        post_features['case'] = case_num\n",
    "        pre_features['case'] = case_num\n",
    "        case_num+=1\n",
    "\n",
    "        all_pre_activation = pd.concat([all_pre_activation, pre_features])\n",
    "        all_post_activation = pd.concat([all_post_activation, post_features])\n",
    "    else:\n",
    "        pass\n",
    "\n",
    "all_pre_activation.to_csv(r'path\\pre_activation.csv', index=False)\n",
    "all_post_activation.to_csv(r'path\\post_activation.csv', index=False)"
   ]
  },
  {
   "cell_type": "code",
   "execution_count": null,
   "metadata": {},
   "outputs": [],
   "source": []
  }
 ],
 "metadata": {
  "kernelspec": {
   "display_name": "base",
   "language": "python",
   "name": "python3"
  },
  "language_info": {
   "codemirror_mode": {
    "name": "ipython",
    "version": 3
   },
   "file_extension": ".py",
   "mimetype": "text/x-python",
   "name": "python",
   "nbconvert_exporter": "python",
   "pygments_lexer": "ipython3",
   "version": "3.8.8"
  },
  "orig_nbformat": 4
 },
 "nbformat": 4,
 "nbformat_minor": 2
}
