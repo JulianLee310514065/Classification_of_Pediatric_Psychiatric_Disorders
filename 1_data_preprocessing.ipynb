{
 "cells": [
  {
   "attachments": {},
   "cell_type": "markdown",
   "metadata": {},
   "source": [
    "### Data preprocessing"
   ]
  },
  {
   "attachments": {},
   "cell_type": "markdown",
   "metadata": {},
   "source": [
    "### Import Module"
   ]
  },
  {
   "cell_type": "code",
   "execution_count": null,
   "metadata": {},
   "outputs": [],
   "source": [
    "import os\n",
    "import glob\n",
    "import pandas as pd\n",
    "import numpy as np \n",
    "import matplotlib.pyplot as plt\n",
    "import math\n",
    "from scipy.signal import butter, filtfilt\n",
    "import seaborn as sns"
   ]
  },
  {
   "attachments": {},
   "cell_type": "markdown",
   "metadata": {},
   "source": [
    "## Calculate Oxy"
   ]
  },
  {
   "cell_type": "code",
   "execution_count": null,
   "metadata": {},
   "outputs": [],
   "source": [
    "def Oxy_Cal(df):\n",
    "    '''\n",
    "    return: Oxygenated blood information\n",
    "\n",
    "    inputs:\n",
    "        df: df of LED information\n",
    "    '''\n",
    "    eHHb_730 = 1.102\n",
    "    eHHb_850 = 0.691\n",
    "    eHbO_730 = 0.39\n",
    "    eHbO_850 = 1.058\n",
    "    DPF_730 = 223.3+0.05624*(15**0.8493)-5.723*10**(-7)*(730**3)+0.001245*(730**2)+(-0.9025)*730\n",
    "    DPF_850 = 223.3+0.05624*(15**0.8493)-5.723*10**(-7)*(850**3)+0.001245*(850**2)+(-0.9025)*850\n",
    "    Oxy_data = pd.DataFrame() \n",
    "    for i in range(0, 4):\n",
    "        ori_730 = df.iloc[:10, 2*i].mean()\n",
    "        ori_850 = df.iloc[:10, 2*i+1].mean()\n",
    "        OD_730 = np.log10(df.iloc[:, 2*i] / ori_730)\n",
    "        OD_850 = np.log10(df.iloc[:, 2*i+1] / ori_850)\n",
    "        Oxy_data['CH'+str(i+1)+'_Oxy'] = 10*(eHHb_730*(OD_850/DPF_850) - eHHb_850*(OD_730/DPF_730)) / ((eHHb_730*eHbO_850 - eHHb_850*eHbO_730)*0.03)\n",
    "        Oxy_data['CH'+str(i+1)+'_Deoxy'] = 10*(eHbO_850*(OD_730/DPF_730) - eHbO_730*(OD_850/DPF_850)) / ((eHHb_730*eHbO_850 - eHHb_850*eHbO_730)*0.03)\n",
    "\n",
    "    Oxy_data = Oxy_data.iloc[10:]\n",
    "    return Oxy_data"
   ]
  },
  {
   "attachments": {},
   "cell_type": "markdown",
   "metadata": {},
   "source": [
    "## Fill NaN"
   ]
  },
  {
   "cell_type": "code",
   "execution_count": null,
   "metadata": {},
   "outputs": [],
   "source": [
    "def fill_nan(df):\n",
    "    '''\n",
    "    return: df without NaN\n",
    "\n",
    "    inputs:\n",
    "        df: uncleared dataframe\n",
    "    '''\n",
    "    OwO_wona = pd.DataFrame()\n",
    "    df[np.isinf] = np.nan\n",
    "    OwO_wona = df.fillna(method='ffill')\n",
    "    return OwO_wona"
   ]
  },
  {
   "attachments": {},
   "cell_type": "markdown",
   "metadata": {},
   "source": [
    "## Filter"
   ]
  },
  {
   "cell_type": "code",
   "execution_count": null,
   "metadata": {},
   "outputs": [],
   "source": [
    "def filtering(df):\n",
    "    '''\n",
    "    return: filterd dataframe\n",
    "\n",
    "    inputs:\n",
    "        df: dataframe without filter\n",
    "    '''\n",
    "    # butt\n",
    "    N = 4\n",
    "    nyq = 0.5 * 17\n",
    "    OwO_filterd = pd.DataFrame()\n",
    "    for col in df:\n",
    "        b, a = butter(N, 0.1/nyq, 'low')\n",
    "        filterd = filtfilt(b, a, df[col])\n",
    "        OwO_filterd[col] = filterd\n",
    "\n",
    "    OwO_filterd.index = df.index\n",
    "    return OwO_filterd"
   ]
  },
  {
   "attachments": {},
   "cell_type": "markdown",
   "metadata": {},
   "source": [
    "## Normalize"
   ]
  },
  {
   "cell_type": "code",
   "execution_count": null,
   "metadata": {},
   "outputs": [],
   "source": [
    "def normalize(df):\n",
    "    '''\n",
    "    return: normalized dataframe\n",
    "\n",
    "    inputs:\n",
    "        df: dataframe\n",
    "    '''\n",
    "    OwO_normalized = pd.DataFrame()\n",
    "    OwO_normalized = (df - df.min())/(df.max()-df.min())\n",
    "    return OwO_normalized"
   ]
  },
  {
   "cell_type": "code",
   "execution_count": null,
   "metadata": {},
   "outputs": [],
   "source": [
    "group_dir = []\n",
    "for dirPath, dirNames, fileNames in os.walk(r'path\\1_ori_data'):\n",
    "    group_dir.append(dirPath)\n",
    "group_dir.pop(0)\n",
    "\n",
    "all_feature = pd.DataFrame()\n",
    "for group in group_dir:\n",
    "    split_list = group.split('\\\\')\n",
    "    data_link = os.path.join('..\\\\', split_list[-4], split_list[-1], \"*.csv\")\n",
    "    file_list = glob.glob(data_link)\n",
    "    for file in file_list:\n",
    "        df = pd.read_csv(file)\n",
    "        df_time = df.set_index('Time_Host')\n",
    "        df_clean = fill_nan(df_time[['CH1_Oxy', 'CH1_Deoxy', 'CH2_Oxy', 'CH2_Deoxy', 'CH3_Oxy', 'CH3_Deoxy', 'CH4_Oxy', 'CH4_Deoxy']])\n",
    "        df_filter = filtering(df_clean)\n",
    "        df_norm = normalize(df_filter)\n",
    "        df_norm.index = df_time.index\n",
    "        df_norm.index = df_norm.index - df_norm.index[0]\n",
    "        save_path = file.replace('1_ori_data', '2_processed_data')\n",
    "        df_norm.to_csv(save_path, index=True)"
   ]
  }
 ],
 "metadata": {
  "kernelspec": {
   "display_name": "base",
   "language": "python",
   "name": "python3"
  },
  "language_info": {
   "codemirror_mode": {
    "name": "ipython",
    "version": 3
   },
   "file_extension": ".py",
   "mimetype": "text/x-python",
   "name": "python",
   "nbconvert_exporter": "python",
   "pygments_lexer": "ipython3",
   "version": "3.8.8"
  },
  "orig_nbformat": 4
 },
 "nbformat": 4,
 "nbformat_minor": 2
}
